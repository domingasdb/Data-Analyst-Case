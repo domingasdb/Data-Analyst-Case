{
  "cells": [
    {
      "cell_type": "markdown",
      "metadata": {
        "id": "_0LYYI76_Tl-"
      },
      "source": [
        "# **Data Analyst Case - AMAZON.in Sales**\n",
        "\n",
        "#### *Loading necessary packages for the analysis*"
      ]
    },
    {
      "cell_type": "code",
      "execution_count": 1,
      "metadata": {
        "id": "UYbmRi6DjRlt"
      },
      "outputs": [],
      "source": [
        "import pandas as pd\n",
        "pd.set_option('display.max_columns', None)\n",
        "pd.set_option('display.max_rows', 30)\n",
        "\n",
        "from sqlalchemy import create_engine\n",
        "from sqlalchemy.engine import URL\n",
        "from sqlalchemy import text"
      ]
    },
    {
      "cell_type": "markdown",
      "metadata": {
        "id": "8ol9CQPP_0ky"
      },
      "source": [
        "# *Loading the databases*"
      ]
    },
    {
      "cell_type": "code",
      "execution_count": 3,
      "metadata": {
        "id": "HBJSyWBUjRlv"
      },
      "outputs": [],
      "source": [
        "AmazonSales = pd.read_excel('Amazon Sales data.xlsx')\n"
      ]
    },
    {
      "cell_type": "markdown",
      "metadata": {
        "id": "54og7kz6jRlz"
      },
      "source": [
        "---\n",
        "\n",
        "# **BUSINESS Analysis (Data Visualization)**\n",
        "\n",
        "- #### Perform an exploratory analysis of the sales data\n",
        "  \n",
        "- #### understanding:\n",
        "\n",
        "  - #### What type of data is available on the platform.\n",
        "  \n",
        "  - #### Understand how they can improve the business operations, and also the sales performance by keeping the inventory ready to meet the demand."
      ]
    },
    {
      "cell_type": "markdown",
      "metadata": {
        "id": "9OQzywU6jRlz"
      },
      "source": [
        "- ## **Cleaning the data**"
      ]
    },
    {
      "cell_type": "markdown",
      "metadata": {
        "id": "zL1HOfjdjRl0"
      },
      "source": [
        "- ### *Overall data information*\n",
        "\n",
        " #### `database.info()` - information about the data types and missing values.\n",
        "\n",
        " #### `database.describe()` - summary statistics of numerical columns."
      ]
    },
    {
      "cell_type": "markdown",
      "metadata": {
        "id": "_rP7To1RjRl0"
      },
      "source": [
        "---"
      ]
    },
    {
      "cell_type": "code",
      "execution_count": 4,
      "metadata": {
        "colab": {
          "base_uri": "https://localhost:8080/",
          "height": 547
        },
        "id": "b6TpIsPzjRl1",
        "outputId": "ad989111-aea7-4475-8d51-7b66e20cd6a9"
      },
      "outputs": [
        {
          "data": {
            "text/html": [
              "<div>\n",
              "<style scoped>\n",
              "    .dataframe tbody tr th:only-of-type {\n",
              "        vertical-align: middle;\n",
              "    }\n",
              "\n",
              "    .dataframe tbody tr th {\n",
              "        vertical-align: top;\n",
              "    }\n",
              "\n",
              "    .dataframe thead th {\n",
              "        text-align: right;\n",
              "    }\n",
              "</style>\n",
              "<table border=\"1\" class=\"dataframe\">\n",
              "  <thead>\n",
              "    <tr style=\"text-align: right;\">\n",
              "      <th></th>\n",
              "      <th>index</th>\n",
              "      <th>Order ID</th>\n",
              "      <th>Date</th>\n",
              "      <th>Status</th>\n",
              "      <th>Fulfilment</th>\n",
              "      <th>Sales Channel</th>\n",
              "      <th>ship-service-level</th>\n",
              "      <th>Style</th>\n",
              "      <th>SKU</th>\n",
              "      <th>Category</th>\n",
              "      <th>Size</th>\n",
              "      <th>ASIN</th>\n",
              "      <th>Courier Status</th>\n",
              "      <th>Qty</th>\n",
              "      <th>currency</th>\n",
              "      <th>Amount</th>\n",
              "      <th>ship-city</th>\n",
              "      <th>ship-state</th>\n",
              "      <th>ship-postal-code</th>\n",
              "      <th>ship-country</th>\n",
              "      <th>promotion-ids</th>\n",
              "      <th>B2B</th>\n",
              "      <th>fulfilled-by</th>\n",
              "      <th>Unnamed: 22</th>\n",
              "    </tr>\n",
              "  </thead>\n",
              "  <tbody>\n",
              "    <tr>\n",
              "      <th>0</th>\n",
              "      <td>0</td>\n",
              "      <td>405-8078784-5731545</td>\n",
              "      <td>04-30-22</td>\n",
              "      <td>Cancelled</td>\n",
              "      <td>Merchant</td>\n",
              "      <td>Amazon.in</td>\n",
              "      <td>Standard</td>\n",
              "      <td>SET389</td>\n",
              "      <td>SET389-KR-NP-S</td>\n",
              "      <td>Set</td>\n",
              "      <td>S</td>\n",
              "      <td>B09KXVBD7Z</td>\n",
              "      <td>NaN</td>\n",
              "      <td>0</td>\n",
              "      <td>INR</td>\n",
              "      <td>647.62</td>\n",
              "      <td>MUMBAI</td>\n",
              "      <td>MAHARASHTRA</td>\n",
              "      <td>400081.0</td>\n",
              "      <td>IN</td>\n",
              "      <td>NaN</td>\n",
              "      <td>False</td>\n",
              "      <td>Easy Ship</td>\n",
              "      <td>NaN</td>\n",
              "    </tr>\n",
              "    <tr>\n",
              "      <th>1</th>\n",
              "      <td>1</td>\n",
              "      <td>171-9198151-1101146</td>\n",
              "      <td>04-30-22</td>\n",
              "      <td>Shipped - Delivered to Buyer</td>\n",
              "      <td>Merchant</td>\n",
              "      <td>Amazon.in</td>\n",
              "      <td>Standard</td>\n",
              "      <td>JNE3781</td>\n",
              "      <td>JNE3781-KR-XXXL</td>\n",
              "      <td>kurta</td>\n",
              "      <td>3XL</td>\n",
              "      <td>B09K3WFS32</td>\n",
              "      <td>Shipped</td>\n",
              "      <td>1</td>\n",
              "      <td>INR</td>\n",
              "      <td>406.00</td>\n",
              "      <td>BENGALURU</td>\n",
              "      <td>KARNATAKA</td>\n",
              "      <td>560085.0</td>\n",
              "      <td>IN</td>\n",
              "      <td>Amazon PLCC Free-Financing Universal Merchant ...</td>\n",
              "      <td>False</td>\n",
              "      <td>Easy Ship</td>\n",
              "      <td>NaN</td>\n",
              "    </tr>\n",
              "    <tr>\n",
              "      <th>2</th>\n",
              "      <td>2</td>\n",
              "      <td>404-0687676-7273146</td>\n",
              "      <td>04-30-22</td>\n",
              "      <td>Shipped</td>\n",
              "      <td>Amazon</td>\n",
              "      <td>Amazon.in</td>\n",
              "      <td>Expedited</td>\n",
              "      <td>JNE3371</td>\n",
              "      <td>JNE3371-KR-XL</td>\n",
              "      <td>kurta</td>\n",
              "      <td>XL</td>\n",
              "      <td>B07WV4JV4D</td>\n",
              "      <td>Shipped</td>\n",
              "      <td>1</td>\n",
              "      <td>INR</td>\n",
              "      <td>329.00</td>\n",
              "      <td>NAVI MUMBAI</td>\n",
              "      <td>MAHARASHTRA</td>\n",
              "      <td>410210.0</td>\n",
              "      <td>IN</td>\n",
              "      <td>IN Core Free Shipping 2015/04/08 23-48-5-108</td>\n",
              "      <td>True</td>\n",
              "      <td>NaN</td>\n",
              "      <td>NaN</td>\n",
              "    </tr>\n",
              "    <tr>\n",
              "      <th>3</th>\n",
              "      <td>3</td>\n",
              "      <td>403-9615377-8133951</td>\n",
              "      <td>04-30-22</td>\n",
              "      <td>Cancelled</td>\n",
              "      <td>Merchant</td>\n",
              "      <td>Amazon.in</td>\n",
              "      <td>Standard</td>\n",
              "      <td>J0341</td>\n",
              "      <td>J0341-DR-L</td>\n",
              "      <td>Western Dress</td>\n",
              "      <td>L</td>\n",
              "      <td>B099NRCT7B</td>\n",
              "      <td>NaN</td>\n",
              "      <td>0</td>\n",
              "      <td>INR</td>\n",
              "      <td>753.33</td>\n",
              "      <td>PUDUCHERRY</td>\n",
              "      <td>PUDUCHERRY</td>\n",
              "      <td>605008.0</td>\n",
              "      <td>IN</td>\n",
              "      <td>NaN</td>\n",
              "      <td>False</td>\n",
              "      <td>Easy Ship</td>\n",
              "      <td>NaN</td>\n",
              "    </tr>\n",
              "    <tr>\n",
              "      <th>4</th>\n",
              "      <td>4</td>\n",
              "      <td>407-1069790-7240320</td>\n",
              "      <td>04-30-22</td>\n",
              "      <td>Shipped</td>\n",
              "      <td>Amazon</td>\n",
              "      <td>Amazon.in</td>\n",
              "      <td>Expedited</td>\n",
              "      <td>JNE3671</td>\n",
              "      <td>JNE3671-TU-XXXL</td>\n",
              "      <td>Top</td>\n",
              "      <td>3XL</td>\n",
              "      <td>B098714BZP</td>\n",
              "      <td>Shipped</td>\n",
              "      <td>1</td>\n",
              "      <td>INR</td>\n",
              "      <td>574.00</td>\n",
              "      <td>CHENNAI</td>\n",
              "      <td>TAMIL NADU</td>\n",
              "      <td>600073.0</td>\n",
              "      <td>IN</td>\n",
              "      <td>NaN</td>\n",
              "      <td>False</td>\n",
              "      <td>NaN</td>\n",
              "      <td>NaN</td>\n",
              "    </tr>\n",
              "  </tbody>\n",
              "</table>\n",
              "</div>"
            ],
            "text/plain": [
              "   index             Order ID      Date                        Status  \\\n",
              "0      0  405-8078784-5731545  04-30-22                     Cancelled   \n",
              "1      1  171-9198151-1101146  04-30-22  Shipped - Delivered to Buyer   \n",
              "2      2  404-0687676-7273146  04-30-22                       Shipped   \n",
              "3      3  403-9615377-8133951  04-30-22                     Cancelled   \n",
              "4      4  407-1069790-7240320  04-30-22                       Shipped   \n",
              "\n",
              "  Fulfilment Sales Channel ship-service-level    Style              SKU  \\\n",
              "0   Merchant     Amazon.in           Standard   SET389   SET389-KR-NP-S   \n",
              "1   Merchant     Amazon.in           Standard  JNE3781  JNE3781-KR-XXXL   \n",
              "2     Amazon     Amazon.in          Expedited  JNE3371    JNE3371-KR-XL   \n",
              "3   Merchant     Amazon.in           Standard    J0341       J0341-DR-L   \n",
              "4     Amazon     Amazon.in          Expedited  JNE3671  JNE3671-TU-XXXL   \n",
              "\n",
              "        Category Size        ASIN Courier Status  Qty currency  Amount  \\\n",
              "0            Set    S  B09KXVBD7Z            NaN    0      INR  647.62   \n",
              "1          kurta  3XL  B09K3WFS32        Shipped    1      INR  406.00   \n",
              "2          kurta   XL  B07WV4JV4D        Shipped    1      INR  329.00   \n",
              "3  Western Dress    L  B099NRCT7B            NaN    0      INR  753.33   \n",
              "4            Top  3XL  B098714BZP        Shipped    1      INR  574.00   \n",
              "\n",
              "     ship-city   ship-state  ship-postal-code ship-country  \\\n",
              "0       MUMBAI  MAHARASHTRA          400081.0           IN   \n",
              "1    BENGALURU    KARNATAKA          560085.0           IN   \n",
              "2  NAVI MUMBAI  MAHARASHTRA          410210.0           IN   \n",
              "3   PUDUCHERRY   PUDUCHERRY          605008.0           IN   \n",
              "4      CHENNAI   TAMIL NADU          600073.0           IN   \n",
              "\n",
              "                                       promotion-ids    B2B fulfilled-by  \\\n",
              "0                                                NaN  False    Easy Ship   \n",
              "1  Amazon PLCC Free-Financing Universal Merchant ...  False    Easy Ship   \n",
              "2       IN Core Free Shipping 2015/04/08 23-48-5-108   True          NaN   \n",
              "3                                                NaN  False    Easy Ship   \n",
              "4                                                NaN  False          NaN   \n",
              "\n",
              "   Unnamed: 22  \n",
              "0          NaN  \n",
              "1          NaN  \n",
              "2          NaN  \n",
              "3          NaN  \n",
              "4          NaN  "
            ]
          },
          "execution_count": 4,
          "metadata": {},
          "output_type": "execute_result"
        }
      ],
      "source": [
        "AmazonSales.head(5)"
      ]
    },
    {
      "cell_type": "code",
      "execution_count": 5,
      "metadata": {
        "colab": {
          "base_uri": "https://localhost:8080/"
        },
        "id": "eA3lTXPwjRl1",
        "outputId": "b89263ec-a74c-42b1-a44f-496737ba3204"
      },
      "outputs": [
        {
          "name": "stdout",
          "output_type": "stream",
          "text": [
            "<class 'pandas.core.frame.DataFrame'>\n",
            "RangeIndex: 128975 entries, 0 to 128974\n",
            "Data columns (total 24 columns):\n",
            " #   Column              Non-Null Count   Dtype  \n",
            "---  ------              --------------   -----  \n",
            " 0   index               128975 non-null  int64  \n",
            " 1   Order ID            128975 non-null  object \n",
            " 2   Date                128975 non-null  object \n",
            " 3   Status              128975 non-null  object \n",
            " 4   Fulfilment          128975 non-null  object \n",
            " 5   Sales Channel       128975 non-null  object \n",
            " 6   ship-service-level  128975 non-null  object \n",
            " 7   Style               128975 non-null  object \n",
            " 8   SKU                 128975 non-null  object \n",
            " 9   Category            128975 non-null  object \n",
            " 10  Size                128975 non-null  object \n",
            " 11  ASIN                128975 non-null  object \n",
            " 12  Courier Status      122103 non-null  object \n",
            " 13  Qty                 128975 non-null  int64  \n",
            " 14  currency            121180 non-null  object \n",
            " 15  Amount              121180 non-null  float64\n",
            " 16  ship-city           128942 non-null  object \n",
            " 17  ship-state          128942 non-null  object \n",
            " 18  ship-postal-code    128942 non-null  float64\n",
            " 19  ship-country        128942 non-null  object \n",
            " 20  promotion-ids       79822 non-null   object \n",
            " 21  B2B                 128975 non-null  bool   \n",
            " 22  fulfilled-by        39277 non-null   object \n",
            " 23  Unnamed: 22         79925 non-null   float64\n",
            "dtypes: bool(1), float64(3), int64(2), object(18)\n",
            "memory usage: 22.8+ MB\n",
            "None\n"
          ]
        }
      ],
      "source": [
        "print(AmazonSales.info())"
      ]
    },
    {
      "cell_type": "markdown",
      "metadata": {
        "id": "e8dstOJNjRl1"
      },
      "source": [
        "- #### The dataset contains 128975 entries (rows), ranging from index 0 to 128974.\n",
        "- #### There are 24 columns in total, each representing a specific attribute of the data.\n",
        "- #### The columns have different data types: int64 (integer), object (string or mixed types), float64 (floating-point numbers), and bool (boolean).\n",
        "- #### Some columns have missing values (non-null counts are less than the total number of entries). For example, \"Courier Status\" has 6872 missing values, \"Amount\" and \"currency\" have 7795 missing values, and \"fulfilled-by\" has 89698 missing values.\n",
        "\n",
        "#### The \"Unnamed: 22\" column appears to have a significant number of missing values (around 49,050) and might not be essential for analysis."
      ]
    },
    {
      "cell_type": "code",
      "execution_count": 6,
      "metadata": {
        "colab": {
          "base_uri": "https://localhost:8080/"
        },
        "id": "CwIYDf0JjRl1",
        "outputId": "02b6a24a-108e-467d-b069-398aed3d3587"
      },
      "outputs": [
        {
          "data": {
            "text/plain": [
              "array([nan,  0.])"
            ]
          },
          "execution_count": 6,
          "metadata": {},
          "output_type": "execute_result"
        }
      ],
      "source": [
        "AmazonSales['Unnamed: 22'].unique()"
      ]
    },
    {
      "cell_type": "markdown",
      "metadata": {
        "id": "hvhWeu1djRl1"
      },
      "source": [
        "#### **We can see that the column doesn't contain any relevant information. That's why I decided to remove it.**"
      ]
    },
    {
      "cell_type": "code",
      "execution_count": 7,
      "metadata": {
        "id": "nQMzB97cjRl2"
      },
      "outputs": [],
      "source": [
        "AmazonSales.drop('Unnamed: 22', axis=1, inplace=True)"
      ]
    },
    {
      "cell_type": "markdown",
      "metadata": {
        "id": "5kGsYT-ajRl2"
      },
      "source": [
        "- ### **Handling missing values**"
      ]
    },
    {
      "cell_type": "code",
      "execution_count": 8,
      "metadata": {
        "colab": {
          "base_uri": "https://localhost:8080/"
        },
        "id": "c36cFo_WjRl2",
        "outputId": "d0260cf7-be98-4691-a527-dcabe8c01b35"
      },
      "outputs": [
        {
          "data": {
            "text/plain": [
              "array(['Easy Ship', nan], dtype=object)"
            ]
          },
          "execution_count": 8,
          "metadata": {},
          "output_type": "execute_result"
        }
      ],
      "source": [
        "AmazonSales['fulfilled-by'].unique()"
      ]
    },
    {
      "cell_type": "code",
      "execution_count": 9,
      "metadata": {
        "colab": {
          "base_uri": "https://localhost:8080/"
        },
        "id": "TLb36eeOjRl2",
        "outputId": "cef64bfe-6c5e-4d3f-971f-3db69bb89020"
      },
      "outputs": [
        {
          "data": {
            "text/plain": [
              "array(['Merchant', 'Amazon'], dtype=object)"
            ]
          },
          "execution_count": 9,
          "metadata": {},
          "output_type": "execute_result"
        }
      ],
      "source": [
        "AmazonSales['Fulfilment'].unique()"
      ]
    },
    {
      "cell_type": "code",
      "execution_count": 10,
      "metadata": {
        "colab": {
          "base_uri": "https://localhost:8080/",
          "height": 143
        },
        "id": "NAFlncvGjRl3",
        "outputId": "adab66bc-9173-401b-fb45-92ac762061f8"
      },
      "outputs": [
        {
          "data": {
            "text/html": [
              "<div>\n",
              "<style scoped>\n",
              "    .dataframe tbody tr th:only-of-type {\n",
              "        vertical-align: middle;\n",
              "    }\n",
              "\n",
              "    .dataframe tbody tr th {\n",
              "        vertical-align: top;\n",
              "    }\n",
              "\n",
              "    .dataframe thead th {\n",
              "        text-align: right;\n",
              "    }\n",
              "</style>\n",
              "<table border=\"1\" class=\"dataframe\">\n",
              "  <thead>\n",
              "    <tr style=\"text-align: right;\">\n",
              "      <th></th>\n",
              "      <th>fulfilled-by</th>\n",
              "    </tr>\n",
              "    <tr>\n",
              "      <th>Fulfilment</th>\n",
              "      <th></th>\n",
              "    </tr>\n",
              "  </thead>\n",
              "  <tbody>\n",
              "    <tr>\n",
              "      <th>Amazon</th>\n",
              "      <td>0</td>\n",
              "    </tr>\n",
              "    <tr>\n",
              "      <th>Merchant</th>\n",
              "      <td>39277</td>\n",
              "    </tr>\n",
              "  </tbody>\n",
              "</table>\n",
              "</div>"
            ],
            "text/plain": [
              "            fulfilled-by\n",
              "Fulfilment              \n",
              "Amazon                 0\n",
              "Merchant           39277"
            ]
          },
          "execution_count": 10,
          "metadata": {},
          "output_type": "execute_result"
        }
      ],
      "source": [
        "AmazonSales[['fulfilled-by', 'Fulfilment']].groupby('Fulfilment').count()"
      ]
    },
    {
      "cell_type": "markdown",
      "metadata": {
        "id": "WM8lFHCdjRl3"
      },
      "source": [
        "#### I have conducted research on the fulfillment methods utilized by Amazon, and I discovered that there are two different options provided to sellers: 'Fulfilled by Amazon' (FBA) and 'Easy Ship':\n",
        "\n",
        "- #### **Fulfilled by Amazon (FBA)**: With FBA, sellers store their products in Amazon's fulfillment centers. When a customer places an order, Amazon handles the packaging, shipping, and customer service for those orders. This means that Amazon takes care of all aspects of order fulfillment on behalf of the seller.\n",
        "\n",
        "- #### **Easy Ship:** Easy ship is also a fulfillment method provided by Amazon, but it differs from FBA in that the seller retains control of the inventory. Sellers using easy ship are responsible for storing, packaging, and labeling their products. However, once the seller has prepared the order, Amazon's delivery network picks up the package and handles the final delivery to the customer.\n",
        "\n",
        "#### **For this reason and considering the analysis above, i dicided to fill the 'fulfilled-by' column with the value 'Amazon', using the `.fillna()` method in pandas to replace any missing or NaN values in the column with \"Amazon\".**"
      ]
    },
    {
      "cell_type": "code",
      "execution_count": 11,
      "metadata": {
        "id": "aSd2f_3RjRl3"
      },
      "outputs": [],
      "source": [
        "# Fill the 'fulfilled-by' column with 'Amazon'\n",
        "AmazonSales['fulfilled-by'] = AmazonSales['fulfilled-by'].fillna('Amazon')\n"
      ]
    },
    {
      "cell_type": "code",
      "execution_count": 12,
      "metadata": {
        "colab": {
          "base_uri": "https://localhost:8080/",
          "height": 143
        },
        "id": "3jqNtMeWjRl3",
        "outputId": "5bad4dae-d260-4a91-d54f-34504b098696"
      },
      "outputs": [
        {
          "data": {
            "text/html": [
              "<div>\n",
              "<style scoped>\n",
              "    .dataframe tbody tr th:only-of-type {\n",
              "        vertical-align: middle;\n",
              "    }\n",
              "\n",
              "    .dataframe tbody tr th {\n",
              "        vertical-align: top;\n",
              "    }\n",
              "\n",
              "    .dataframe thead th {\n",
              "        text-align: right;\n",
              "    }\n",
              "</style>\n",
              "<table border=\"1\" class=\"dataframe\">\n",
              "  <thead>\n",
              "    <tr style=\"text-align: right;\">\n",
              "      <th>Fulfilment</th>\n",
              "      <th>Amazon</th>\n",
              "      <th>Merchant</th>\n",
              "    </tr>\n",
              "    <tr>\n",
              "      <th>fulfilled-by</th>\n",
              "      <th></th>\n",
              "      <th></th>\n",
              "    </tr>\n",
              "  </thead>\n",
              "  <tbody>\n",
              "    <tr>\n",
              "      <th>Amazon</th>\n",
              "      <td>89698</td>\n",
              "      <td>0</td>\n",
              "    </tr>\n",
              "    <tr>\n",
              "      <th>Easy Ship</th>\n",
              "      <td>0</td>\n",
              "      <td>39277</td>\n",
              "    </tr>\n",
              "  </tbody>\n",
              "</table>\n",
              "</div>"
            ],
            "text/plain": [
              "Fulfilment    Amazon  Merchant\n",
              "fulfilled-by                  \n",
              "Amazon         89698         0\n",
              "Easy Ship          0     39277"
            ]
          },
          "execution_count": 12,
          "metadata": {},
          "output_type": "execute_result"
        }
      ],
      "source": [
        "pd.pivot_table(AmazonSales, values=\"index\", index=[\"fulfilled-by\"], columns=[\"Fulfilment\"], aggfunc='count', fill_value=0)"
      ]
    },
    {
      "cell_type": "markdown",
      "metadata": {
        "id": "AdN86zPrjRl4"
      },
      "source": [
        "---"
      ]
    },
    {
      "cell_type": "code",
      "execution_count": 13,
      "metadata": {
        "colab": {
          "base_uri": "https://localhost:8080/"
        },
        "id": "alARIRzPjRl4",
        "outputId": "c5f0372e-a3af-4d08-825c-ced8fecc81bf"
      },
      "outputs": [
        {
          "name": "stdout",
          "output_type": "stream",
          "text": [
            "7795 7795\n"
          ]
        }
      ],
      "source": [
        "print(AmazonSales['Amount'].isna().sum(), AmazonSales['currency'].isna().sum())"
      ]
    },
    {
      "cell_type": "code",
      "execution_count": 14,
      "metadata": {
        "colab": {
          "base_uri": "https://localhost:8080/"
        },
        "id": "Xf6LzjH0jRl4",
        "outputId": "8610e179-1f40-45e4-9d71-24d244609076"
      },
      "outputs": [
        {
          "name": "stdout",
          "output_type": "stream",
          "text": [
            "count    121180.000000\n",
            "mean        648.561465\n",
            "std         281.211687\n",
            "min           0.000000\n",
            "25%         449.000000\n",
            "50%         605.000000\n",
            "75%         788.000000\n",
            "max        5584.000000\n",
            "Name: Amount, dtype: float64\n"
          ]
        }
      ],
      "source": [
        "print(AmazonSales['Amount'].describe())"
      ]
    },
    {
      "cell_type": "code",
      "execution_count": 15,
      "metadata": {
        "colab": {
          "base_uri": "https://localhost:8080/"
        },
        "id": "UWnF44y-jRl4",
        "outputId": "8c959235-ac50-4579-8534-37798e78c78d"
      },
      "outputs": [
        {
          "data": {
            "text/plain": [
              "array(['INR', nan], dtype=object)"
            ]
          },
          "execution_count": 15,
          "metadata": {},
          "output_type": "execute_result"
        }
      ],
      "source": [
        "AmazonSales['currency'].unique()"
      ]
    },
    {
      "cell_type": "markdown",
      "metadata": {
        "id": "lyaCtMhwjRl4"
      },
      "source": [
        "#### The statistics above shows the count, mean, standard deviation, minimum, 25th percentile (Q1), median (50th percentile or Q2), 75th percentile (Q3), and maximum value for the 'Amount' column. The mean 'Amount' is approximately 648.561465, with a standard deviation of around 281.211687.\n",
        "\n",
        "- #### In the previous analysis we saw that the columns \"Amount\" and \"currency\" have 7795 missing values.\n",
        "\n",
        "- #### **My decision is to replace the missing or NA (Not Available) values in the \"Amount\" column with the mean**, which is the average value calculated from the non-missing data. The mean is often a reasonable choice when dealing with continuous numerical data, as it represents the central tendency of the data, moreover i can ensure that the overall distribution and central tendency of the data are preserved.\n",
        "\n",
        "- #### **For the \"currency\" column, I am replacing the missing values with \"INR\"**, the official currency of India, as all the data is related to this country, as we can see below."
      ]
    },
    {
      "cell_type": "code",
      "execution_count": 16,
      "metadata": {
        "colab": {
          "base_uri": "https://localhost:8080/"
        },
        "id": "UQxCTfiSjRl4",
        "outputId": "900d27d5-253c-4a29-c75d-7c5b29070161"
      },
      "outputs": [
        {
          "data": {
            "text/plain": [
              "array(['IN', nan], dtype=object)"
            ]
          },
          "execution_count": 16,
          "metadata": {},
          "output_type": "execute_result"
        }
      ],
      "source": [
        "AmazonSales['ship-country'].unique()"
      ]
    },
    {
      "cell_type": "code",
      "execution_count": 17,
      "metadata": {
        "id": "nUcNtSufjRl4"
      },
      "outputs": [],
      "source": [
        "AmazonSales['Amount'] = AmazonSales['Amount'].fillna(AmazonSales['Amount'].mean())\n",
        "AmazonSales['currency'] = AmazonSales['currency'].fillna('INR')"
      ]
    },
    {
      "cell_type": "markdown",
      "metadata": {
        "id": "Ey2o76z9jRmB"
      },
      "source": [
        "---"
      ]
    },
    {
      "cell_type": "code",
      "execution_count": 18,
      "metadata": {
        "colab": {
          "base_uri": "https://localhost:8080/"
        },
        "id": "f7f95p5LjRmB",
        "outputId": "5f45d7bc-3430-4d74-a0a6-b7b94d0fb2c4"
      },
      "outputs": [
        {
          "data": {
            "text/plain": [
              "49153"
            ]
          },
          "execution_count": 18,
          "metadata": {},
          "output_type": "execute_result"
        }
      ],
      "source": [
        "AmazonSales['promotion-ids'].isna().sum()"
      ]
    },
    {
      "cell_type": "markdown",
      "metadata": {
        "id": "VBzZNOgXjRmB"
      },
      "source": [
        "#### The 'promotion-ids' column in the AmazonSales dataset would likely have a value for each sale or order indicating the promotion or campaign associated with that specific transaction. If a sale was made during a specific promotion, the 'promotion-ids' column would contain the corresponding promotion ID. If a sale was not associated with any ongoing promotion, the 'promotion-ids' column might have missing or NaN values.\n",
        "\n",
        "- #### **My decision is to fill the missing or NA (Not Available) values in the \"promotion-ids\" column with 'No promotion'**, indicating that the sale was not associated with any ongoing promotion."
      ]
    },
    {
      "cell_type": "code",
      "execution_count": 19,
      "metadata": {
        "id": "MgNwP-cwjRmB"
      },
      "outputs": [],
      "source": [
        "# Fill the 'promotion-ids' column with 'No promotion'\n",
        "AmazonSales['promotion-ids'] = AmazonSales['promotion-ids'].fillna('No promotion')"
      ]
    },
    {
      "cell_type": "markdown",
      "metadata": {
        "id": "2PY3_cRLjRmB"
      },
      "source": [
        "---"
      ]
    },
    {
      "cell_type": "code",
      "execution_count": 20,
      "metadata": {
        "colab": {
          "base_uri": "https://localhost:8080/"
        },
        "id": "XAH0uGzmjRmB",
        "outputId": "29d9b741-c616-4593-80a4-adcb6e365c4e"
      },
      "outputs": [
        {
          "data": {
            "text/plain": [
              "6872"
            ]
          },
          "execution_count": 20,
          "metadata": {},
          "output_type": "execute_result"
        }
      ],
      "source": [
        "AmazonSales['Courier Status'].isna().sum()"
      ]
    },
    {
      "cell_type": "code",
      "execution_count": 21,
      "metadata": {
        "colab": {
          "base_uri": "https://localhost:8080/"
        },
        "id": "njd2LAAqjRmB",
        "outputId": "b92ec5f6-bd8e-4c79-b62e-c6de2ff4d950"
      },
      "outputs": [
        {
          "data": {
            "text/plain": [
              "array([nan, 'Shipped', 'Cancelled', 'Unshipped'], dtype=object)"
            ]
          },
          "execution_count": 21,
          "metadata": {},
          "output_type": "execute_result"
        }
      ],
      "source": [
        "AmazonSales['Courier Status'].unique()"
      ]
    },
    {
      "cell_type": "markdown",
      "metadata": {
        "id": "f3HevZNkjRmC"
      },
      "source": [
        "#### I am going to select this sample of 6872 data where the 'Courier Status' is missing and analyze them, trying to discover the reason they are missing."
      ]
    },
    {
      "cell_type": "code",
      "execution_count": 22,
      "metadata": {
        "id": "QGpZVAxcjRmC"
      },
      "outputs": [],
      "source": [
        "missing_courier = AmazonSales.loc[AmazonSales['Courier Status'].isna()]"
      ]
    },
    {
      "cell_type": "code",
      "execution_count": 23,
      "metadata": {
        "colab": {
          "base_uri": "https://localhost:8080/"
        },
        "id": "yEkb8iAnjRmC",
        "outputId": "6ce9ec96-f213-4436-9b07-267aefa2a6f8"
      },
      "outputs": [
        {
          "data": {
            "text/plain": [
              "array(['Standard'], dtype=object)"
            ]
          },
          "execution_count": 23,
          "metadata": {},
          "output_type": "execute_result"
        }
      ],
      "source": [
        "missing_courier['ship-service-level'].unique()"
      ]
    },
    {
      "cell_type": "code",
      "execution_count": 24,
      "metadata": {
        "colab": {
          "base_uri": "https://localhost:8080/"
        },
        "id": "H0UYky8PjRmC",
        "outputId": "1cdd7c10-a529-48b7-8a1d-5f01d1a05906"
      },
      "outputs": [
        {
          "data": {
            "text/plain": [
              "Status\n",
              "Cancelled                       6861\n",
              "Shipped - Delivered to Buyer       8\n",
              "Shipped - Returned to Seller       3\n",
              "Name: index, dtype: int64"
            ]
          },
          "execution_count": 24,
          "metadata": {},
          "output_type": "execute_result"
        }
      ],
      "source": [
        "missing_courier.groupby('Status')['index'].count()"
      ]
    },
    {
      "cell_type": "code",
      "execution_count": 25,
      "metadata": {
        "colab": {
          "base_uri": "https://localhost:8080/"
        },
        "id": "7VDPAPKBjRmD",
        "outputId": "32166de4-22c9-4cbb-b7f0-364498805df9"
      },
      "outputs": [
        {
          "data": {
            "text/plain": [
              "Fulfilment\n",
              "Merchant    6872\n",
              "Name: index, dtype: int64"
            ]
          },
          "execution_count": 25,
          "metadata": {},
          "output_type": "execute_result"
        }
      ],
      "source": [
        "missing_courier.groupby('Fulfilment')['index'].count()"
      ]
    },
    {
      "cell_type": "code",
      "execution_count": 26,
      "metadata": {
        "colab": {
          "base_uri": "https://localhost:8080/"
        },
        "id": "3VdlrdcwjRmD",
        "outputId": "ea276000-bff4-4eeb-9de5-77c589f40b20"
      },
      "outputs": [
        {
          "data": {
            "text/plain": [
              "array(['Set', 'Western Dress', 'kurta', 'Top', 'Blouse', 'Bottom',\n",
              "       'Saree', 'Ethnic Dress'], dtype=object)"
            ]
          },
          "execution_count": 26,
          "metadata": {},
          "output_type": "execute_result"
        }
      ],
      "source": [
        "missing_courier['Category'].unique()"
      ]
    },
    {
      "cell_type": "markdown",
      "metadata": {
        "id": "FhxnZ8tFjRmD"
      },
      "source": [
        "#### The courier status provides valuable information about the shipping and delivery progress of the orders.\n",
        "\n",
        "#### We can observe that all the data where the courier status is missing has 'ship-service-level' equal to Standard and the column 'Status', representing the current stage of each order's processing and fulfillment, is mostly filled with the option 'Cancelled.' The other status options for this data are 'Shipped - Delivered to Buyer' and 'Shipped - Returned to Seller.' Consequently, these are considered Cancelled or Invalid Orders.\n",
        "\n",
        "- #### Considering that orders canceled before the shipping process starts or orders with invalid information may lack a valid 'Courier Status', **I have decided to fill the missing or NA (Not Available) values in the 'Courier Status' column with 'Cancelled or Invalid Orders'**."
      ]
    },
    {
      "cell_type": "code",
      "execution_count": 27,
      "metadata": {
        "id": "CJSzDo20jRmD"
      },
      "outputs": [],
      "source": [
        "AmazonSales['Courier Status'] = AmazonSales['Courier Status'].fillna('Cancelled or Invalid Orders')"
      ]
    },
    {
      "cell_type": "markdown",
      "metadata": {
        "id": "UUn5cToUjRmD"
      },
      "source": [
        "---"
      ]
    },
    {
      "cell_type": "code",
      "execution_count": 28,
      "metadata": {
        "colab": {
          "base_uri": "https://localhost:8080/"
        },
        "id": "u4G8LcB5jRmE",
        "outputId": "ce4c2d66-d579-43cf-d05e-cbb15a1fcfba"
      },
      "outputs": [
        {
          "data": {
            "text/plain": [
              "33"
            ]
          },
          "execution_count": 28,
          "metadata": {},
          "output_type": "execute_result"
        }
      ],
      "source": [
        "AmazonSales['ship-country'].isna().sum()"
      ]
    },
    {
      "cell_type": "code",
      "execution_count": 29,
      "metadata": {
        "id": "SrgwYrAjjRmE"
      },
      "outputs": [],
      "source": [
        "missing_country = AmazonSales.loc[AmazonSales['ship-country'].isna()]"
      ]
    },
    {
      "cell_type": "code",
      "execution_count": 30,
      "metadata": {
        "colab": {
          "base_uri": "https://localhost:8080/"
        },
        "id": "QNzjBZ6VjRmE",
        "outputId": "85795584-18d3-4cca-a360-cfbfa5bf2303"
      },
      "outputs": [
        {
          "data": {
            "text/plain": [
              "19968.122929526326"
            ]
          },
          "execution_count": 30,
          "metadata": {},
          "output_type": "execute_result"
        }
      ],
      "source": [
        "total_in_missing_country = missing_country['Amount'].sum()\n",
        "total_in_missing_country"
      ]
    },
    {
      "cell_type": "code",
      "execution_count": 31,
      "metadata": {
        "colab": {
          "base_uri": "https://localhost:8080/"
        },
        "id": "db7vetNmjRmE",
        "outputId": "f7e40763-3b60-47c2-f661-7b2e60b457c9"
      },
      "outputs": [
        {
          "data": {
            "text/plain": [
              "83648214.91782884"
            ]
          },
          "execution_count": 31,
          "metadata": {},
          "output_type": "execute_result"
        }
      ],
      "source": [
        "total_in_AmazonSales = AmazonSales['Amount'].sum()\n",
        "total_in_AmazonSales"
      ]
    },
    {
      "cell_type": "code",
      "execution_count": 32,
      "metadata": {
        "colab": {
          "base_uri": "https://localhost:8080/"
        },
        "id": "YU-bbFBhjRmF",
        "outputId": "8928d3ca-254c-47ca-b486-f5656749fb07"
      },
      "outputs": [
        {
          "data": {
            "text/plain": [
              "0.023871546988948722"
            ]
          },
          "execution_count": 32,
          "metadata": {},
          "output_type": "execute_result"
        }
      ],
      "source": [
        "(total_in_missing_country/total_in_AmazonSales)*100"
      ]
    },
    {
      "cell_type": "markdown",
      "metadata": {
        "id": "MyC4IBKzjRmF"
      },
      "source": [
        "#### **After observe the data with the missing values, i decided to remove them, following this steps to proceed with the removal:**\n",
        "\n",
        "- #### Calculate the total sum of amounts for all sales in the original dataset.\n",
        "\n",
        "- #### Calculate the sum of amounts for the rows with missing \"ship-country\" values.\n",
        "\n",
        "- #### Calculate the percentage of the sum of amounts represented by the rows with missing \"ship-country\" values i.e., (Sum of amounts with missing \"ship-country\") / (Total sum of amounts) * 100.\n",
        "\n",
        "#### **Negligible Impact:** The 0.02% of sales represented by the rows with missing \"ship-country\" values is relatively small compared to the total sales. Removing these rows is unlikely to have a significant impact on the overall analysis results or the insights gained from the data.\n",
        "\n",
        "#### **Data Integrity:** The presence of missing \"ship-country\" values might introduce uncertainties or inaccuracies in the analysis. By removing these rows, i ensure that the dataset used for analysis is more complete and reliable.\n",
        "\n",
        "#### **Statistical Significance:** The missing values may not have a meaningful effect on statistical analysis, especially if the data size is large enough to maintain statistical power and confidence in the results, as we can see below, the mean of the amount barely changed.\n",
        "\n",
        "\n"
      ]
    },
    {
      "cell_type": "code",
      "execution_count": 33,
      "metadata": {
        "id": "ru6yNLF7jRmF"
      },
      "outputs": [],
      "source": [
        "AmazonSalesCleaned = AmazonSales.loc[AmazonSales['ship-country'].isna()==False]"
      ]
    },
    {
      "cell_type": "code",
      "execution_count": 34,
      "metadata": {
        "colab": {
          "base_uri": "https://localhost:8080/"
        },
        "id": "-5ug88yv2FHT",
        "outputId": "a3d8d42b-b97f-453a-bfea-8208161593aa"
      },
      "outputs": [
        {
          "data": {
            "text/plain": [
              "count    128942.000000\n",
              "mean        648.572589\n",
              "std         272.591354\n",
              "min           0.000000\n",
              "25%         459.000000\n",
              "50%         635.000000\n",
              "75%         771.000000\n",
              "max        5584.000000\n",
              "Name: Amount, dtype: float64"
            ]
          },
          "execution_count": 34,
          "metadata": {},
          "output_type": "execute_result"
        }
      ],
      "source": [
        "AmazonSalesCleaned['Amount'].describe()"
      ]
    },
    {
      "cell_type": "code",
      "execution_count": 35,
      "metadata": {
        "colab": {
          "base_uri": "https://localhost:8080/"
        },
        "id": "Hn3bDTpNjRmF",
        "outputId": "fb9583dd-4547-4a51-e6f4-3af7777b06ff"
      },
      "outputs": [
        {
          "name": "stdout",
          "output_type": "stream",
          "text": [
            "<class 'pandas.core.frame.DataFrame'>\n",
            "Int64Index: 128942 entries, 0 to 128974\n",
            "Data columns (total 23 columns):\n",
            " #   Column              Non-Null Count   Dtype  \n",
            "---  ------              --------------   -----  \n",
            " 0   index               128942 non-null  int64  \n",
            " 1   Order ID            128942 non-null  object \n",
            " 2   Date                128942 non-null  object \n",
            " 3   Status              128942 non-null  object \n",
            " 4   Fulfilment          128942 non-null  object \n",
            " 5   Sales Channel       128942 non-null  object \n",
            " 6   ship-service-level  128942 non-null  object \n",
            " 7   Style               128942 non-null  object \n",
            " 8   SKU                 128942 non-null  object \n",
            " 9   Category            128942 non-null  object \n",
            " 10  Size                128942 non-null  object \n",
            " 11  ASIN                128942 non-null  object \n",
            " 12  Courier Status      128942 non-null  object \n",
            " 13  Qty                 128942 non-null  int64  \n",
            " 14  currency            128942 non-null  object \n",
            " 15  Amount              128942 non-null  float64\n",
            " 16  ship-city           128942 non-null  object \n",
            " 17  ship-state          128942 non-null  object \n",
            " 18  ship-postal-code    128942 non-null  float64\n",
            " 19  ship-country        128942 non-null  object \n",
            " 20  promotion-ids       128942 non-null  object \n",
            " 21  B2B                 128942 non-null  bool   \n",
            " 22  fulfilled-by        128942 non-null  object \n",
            "dtypes: bool(1), float64(2), int64(2), object(18)\n",
            "memory usage: 22.7+ MB\n"
          ]
        }
      ],
      "source": [
        "AmazonSalesCleaned.info()"
      ]
    },
    {
      "cell_type": "markdown",
      "metadata": {
        "id": "nFEOFu5aGSDU"
      },
      "source": [
        "### **Handling duplicates:**\n",
        "#### Checking for and removing any duplicate rows in the data:"
      ]
    },
    {
      "cell_type": "code",
      "execution_count": 36,
      "metadata": {
        "colab": {
          "base_uri": "https://localhost:8080/"
        },
        "id": "xh3Ys0XhGRcm",
        "outputId": "b073bcbe-4225-4d6f-9bca-7eb6f64817c9"
      },
      "outputs": [
        {
          "data": {
            "text/plain": [
              "(128942, 23)"
            ]
          },
          "execution_count": 36,
          "metadata": {},
          "output_type": "execute_result"
        }
      ],
      "source": [
        "AmazonSalesCleaned = AmazonSalesCleaned.drop_duplicates()\n",
        "AmazonSalesCleaned.shape"
      ]
    },
    {
      "cell_type": "markdown",
      "metadata": {
        "id": "L9Qd0kiiGuBu"
      },
      "source": [
        "#### **There are no duplicate rows in the data**"
      ]
    },
    {
      "cell_type": "markdown",
      "metadata": {
        "id": "k-E_dXWhHCFI"
      },
      "source": [
        "### **Converting data types:**"
      ]
    },
    {
      "cell_type": "code",
      "execution_count": 37,
      "metadata": {
        "colab": {
          "base_uri": "https://localhost:8080/",
          "height": 547
        },
        "id": "wxtW702KHyPW",
        "outputId": "bb10b2d3-283f-46eb-c323-266cb081a02a"
      },
      "outputs": [
        {
          "data": {
            "text/html": [
              "<div>\n",
              "<style scoped>\n",
              "    .dataframe tbody tr th:only-of-type {\n",
              "        vertical-align: middle;\n",
              "    }\n",
              "\n",
              "    .dataframe tbody tr th {\n",
              "        vertical-align: top;\n",
              "    }\n",
              "\n",
              "    .dataframe thead th {\n",
              "        text-align: right;\n",
              "    }\n",
              "</style>\n",
              "<table border=\"1\" class=\"dataframe\">\n",
              "  <thead>\n",
              "    <tr style=\"text-align: right;\">\n",
              "      <th></th>\n",
              "      <th>index</th>\n",
              "      <th>Order ID</th>\n",
              "      <th>Date</th>\n",
              "      <th>Status</th>\n",
              "      <th>Fulfilment</th>\n",
              "      <th>Sales Channel</th>\n",
              "      <th>ship-service-level</th>\n",
              "      <th>Style</th>\n",
              "      <th>SKU</th>\n",
              "      <th>Category</th>\n",
              "      <th>Size</th>\n",
              "      <th>ASIN</th>\n",
              "      <th>Courier Status</th>\n",
              "      <th>Qty</th>\n",
              "      <th>currency</th>\n",
              "      <th>Amount</th>\n",
              "      <th>ship-city</th>\n",
              "      <th>ship-state</th>\n",
              "      <th>ship-postal-code</th>\n",
              "      <th>ship-country</th>\n",
              "      <th>promotion-ids</th>\n",
              "      <th>B2B</th>\n",
              "      <th>fulfilled-by</th>\n",
              "    </tr>\n",
              "  </thead>\n",
              "  <tbody>\n",
              "    <tr>\n",
              "      <th>0</th>\n",
              "      <td>0</td>\n",
              "      <td>405-8078784-5731545</td>\n",
              "      <td>2022-04-30</td>\n",
              "      <td>Cancelled</td>\n",
              "      <td>Merchant</td>\n",
              "      <td>Amazon.in</td>\n",
              "      <td>Standard</td>\n",
              "      <td>SET389</td>\n",
              "      <td>SET389-KR-NP-S</td>\n",
              "      <td>Set</td>\n",
              "      <td>S</td>\n",
              "      <td>B09KXVBD7Z</td>\n",
              "      <td>Cancelled or Invalid Orders</td>\n",
              "      <td>0</td>\n",
              "      <td>INR</td>\n",
              "      <td>647.62</td>\n",
              "      <td>MUMBAI</td>\n",
              "      <td>MAHARASHTRA</td>\n",
              "      <td>400081</td>\n",
              "      <td>IN</td>\n",
              "      <td>No promotion</td>\n",
              "      <td>False</td>\n",
              "      <td>Easy Ship</td>\n",
              "    </tr>\n",
              "    <tr>\n",
              "      <th>1</th>\n",
              "      <td>1</td>\n",
              "      <td>171-9198151-1101146</td>\n",
              "      <td>2022-04-30</td>\n",
              "      <td>Shipped - Delivered to Buyer</td>\n",
              "      <td>Merchant</td>\n",
              "      <td>Amazon.in</td>\n",
              "      <td>Standard</td>\n",
              "      <td>JNE3781</td>\n",
              "      <td>JNE3781-KR-XXXL</td>\n",
              "      <td>kurta</td>\n",
              "      <td>3XL</td>\n",
              "      <td>B09K3WFS32</td>\n",
              "      <td>Shipped</td>\n",
              "      <td>1</td>\n",
              "      <td>INR</td>\n",
              "      <td>406.00</td>\n",
              "      <td>BENGALURU</td>\n",
              "      <td>KARNATAKA</td>\n",
              "      <td>560085</td>\n",
              "      <td>IN</td>\n",
              "      <td>Amazon PLCC Free-Financing Universal Merchant ...</td>\n",
              "      <td>False</td>\n",
              "      <td>Easy Ship</td>\n",
              "    </tr>\n",
              "    <tr>\n",
              "      <th>2</th>\n",
              "      <td>2</td>\n",
              "      <td>404-0687676-7273146</td>\n",
              "      <td>2022-04-30</td>\n",
              "      <td>Shipped</td>\n",
              "      <td>Amazon</td>\n",
              "      <td>Amazon.in</td>\n",
              "      <td>Expedited</td>\n",
              "      <td>JNE3371</td>\n",
              "      <td>JNE3371-KR-XL</td>\n",
              "      <td>kurta</td>\n",
              "      <td>XL</td>\n",
              "      <td>B07WV4JV4D</td>\n",
              "      <td>Shipped</td>\n",
              "      <td>1</td>\n",
              "      <td>INR</td>\n",
              "      <td>329.00</td>\n",
              "      <td>NAVI MUMBAI</td>\n",
              "      <td>MAHARASHTRA</td>\n",
              "      <td>410210</td>\n",
              "      <td>IN</td>\n",
              "      <td>IN Core Free Shipping 2015/04/08 23-48-5-108</td>\n",
              "      <td>True</td>\n",
              "      <td>Amazon</td>\n",
              "    </tr>\n",
              "    <tr>\n",
              "      <th>3</th>\n",
              "      <td>3</td>\n",
              "      <td>403-9615377-8133951</td>\n",
              "      <td>2022-04-30</td>\n",
              "      <td>Cancelled</td>\n",
              "      <td>Merchant</td>\n",
              "      <td>Amazon.in</td>\n",
              "      <td>Standard</td>\n",
              "      <td>J0341</td>\n",
              "      <td>J0341-DR-L</td>\n",
              "      <td>Western Dress</td>\n",
              "      <td>L</td>\n",
              "      <td>B099NRCT7B</td>\n",
              "      <td>Cancelled or Invalid Orders</td>\n",
              "      <td>0</td>\n",
              "      <td>INR</td>\n",
              "      <td>753.33</td>\n",
              "      <td>PUDUCHERRY</td>\n",
              "      <td>PUDUCHERRY</td>\n",
              "      <td>605008</td>\n",
              "      <td>IN</td>\n",
              "      <td>No promotion</td>\n",
              "      <td>False</td>\n",
              "      <td>Easy Ship</td>\n",
              "    </tr>\n",
              "    <tr>\n",
              "      <th>4</th>\n",
              "      <td>4</td>\n",
              "      <td>407-1069790-7240320</td>\n",
              "      <td>2022-04-30</td>\n",
              "      <td>Shipped</td>\n",
              "      <td>Amazon</td>\n",
              "      <td>Amazon.in</td>\n",
              "      <td>Expedited</td>\n",
              "      <td>JNE3671</td>\n",
              "      <td>JNE3671-TU-XXXL</td>\n",
              "      <td>Top</td>\n",
              "      <td>3XL</td>\n",
              "      <td>B098714BZP</td>\n",
              "      <td>Shipped</td>\n",
              "      <td>1</td>\n",
              "      <td>INR</td>\n",
              "      <td>574.00</td>\n",
              "      <td>CHENNAI</td>\n",
              "      <td>TAMIL NADU</td>\n",
              "      <td>600073</td>\n",
              "      <td>IN</td>\n",
              "      <td>No promotion</td>\n",
              "      <td>False</td>\n",
              "      <td>Amazon</td>\n",
              "    </tr>\n",
              "  </tbody>\n",
              "</table>\n",
              "</div>"
            ],
            "text/plain": [
              "   index             Order ID       Date                        Status  \\\n",
              "0      0  405-8078784-5731545 2022-04-30                     Cancelled   \n",
              "1      1  171-9198151-1101146 2022-04-30  Shipped - Delivered to Buyer   \n",
              "2      2  404-0687676-7273146 2022-04-30                       Shipped   \n",
              "3      3  403-9615377-8133951 2022-04-30                     Cancelled   \n",
              "4      4  407-1069790-7240320 2022-04-30                       Shipped   \n",
              "\n",
              "  Fulfilment Sales Channel ship-service-level    Style              SKU  \\\n",
              "0   Merchant     Amazon.in           Standard   SET389   SET389-KR-NP-S   \n",
              "1   Merchant     Amazon.in           Standard  JNE3781  JNE3781-KR-XXXL   \n",
              "2     Amazon     Amazon.in          Expedited  JNE3371    JNE3371-KR-XL   \n",
              "3   Merchant     Amazon.in           Standard    J0341       J0341-DR-L   \n",
              "4     Amazon     Amazon.in          Expedited  JNE3671  JNE3671-TU-XXXL   \n",
              "\n",
              "        Category Size        ASIN               Courier Status  Qty currency  \\\n",
              "0            Set    S  B09KXVBD7Z  Cancelled or Invalid Orders    0      INR   \n",
              "1          kurta  3XL  B09K3WFS32                      Shipped    1      INR   \n",
              "2          kurta   XL  B07WV4JV4D                      Shipped    1      INR   \n",
              "3  Western Dress    L  B099NRCT7B  Cancelled or Invalid Orders    0      INR   \n",
              "4            Top  3XL  B098714BZP                      Shipped    1      INR   \n",
              "\n",
              "   Amount    ship-city   ship-state  ship-postal-code ship-country  \\\n",
              "0  647.62       MUMBAI  MAHARASHTRA            400081           IN   \n",
              "1  406.00    BENGALURU    KARNATAKA            560085           IN   \n",
              "2  329.00  NAVI MUMBAI  MAHARASHTRA            410210           IN   \n",
              "3  753.33   PUDUCHERRY   PUDUCHERRY            605008           IN   \n",
              "4  574.00      CHENNAI   TAMIL NADU            600073           IN   \n",
              "\n",
              "                                       promotion-ids    B2B fulfilled-by  \n",
              "0                                       No promotion  False    Easy Ship  \n",
              "1  Amazon PLCC Free-Financing Universal Merchant ...  False    Easy Ship  \n",
              "2       IN Core Free Shipping 2015/04/08 23-48-5-108   True       Amazon  \n",
              "3                                       No promotion  False    Easy Ship  \n",
              "4                                       No promotion  False       Amazon  "
            ]
          },
          "execution_count": 37,
          "metadata": {},
          "output_type": "execute_result"
        }
      ],
      "source": [
        "AmazonSalesCleaned['Date'] = pd.to_datetime(AmazonSalesCleaned['Date'])\n",
        "AmazonSalesCleaned['Qty'] = AmazonSalesCleaned['Qty'].astype('int')\n",
        "AmazonSalesCleaned['ship-postal-code'] = AmazonSalesCleaned['ship-postal-code'].astype('int')\n",
        "AmazonSalesCleaned.head(5)"
      ]
    },
    {
      "cell_type": "code",
      "execution_count": 38,
      "metadata": {},
      "outputs": [],
      "source": [
        "AmazonSalesCleaned[\"promotion_list\"] = AmazonSalesCleaned[\"promotion-ids\"].str[:21]"
      ]
    },
    {
      "cell_type": "code",
      "execution_count": 39,
      "metadata": {},
      "outputs": [
        {
          "data": {
            "text/plain": [
              "promotion_list\n",
              "Amazon PLCC Free-Fina    32338\n",
              "Duplicated A12RHGVGRW      489\n",
              "Duplicated AYTJSBA8ZO      433\n",
              "IN Core Free Shipping    46183\n",
              "No promotion             49145\n",
              "VPC-44571-38707197 Co       74\n",
              "VPC-44571-38707597 Co       18\n",
              "VPC-44571-38708638 Co       28\n",
              "VPC-44571-41445473 Co       41\n",
              "VPC-44571-41445498 Co       14\n",
              "VPC-44571-41445527 Co       27\n",
              "VPC-44571-41445561 Co       31\n",
              "VPC-44571-44201687 Co       52\n",
              "VPC-44571-44201770 Co       44\n",
              "VPC-44571-44201853 Co       25\n",
              "Name: index, dtype: int64"
            ]
          },
          "execution_count": 39,
          "metadata": {},
          "output_type": "execute_result"
        }
      ],
      "source": [
        "AmazonSalesCleaned['index'].groupby(AmazonSalesCleaned[\"promotion_list\"]).count()"
      ]
    },
    {
      "cell_type": "markdown",
      "metadata": {
        "id": "Zrx3WbbXMAc0"
      },
      "source": [
        "#### *Saving the data.*"
      ]
    },
    {
      "cell_type": "code",
      "execution_count": 45,
      "metadata": {
        "id": "tW20qnarEqgR"
      },
      "outputs": [],
      "source": [
        "AmazonSalesCleaned.to_excel('AmazonSalesCleaned.xlsx')"
      ]
    },
    {
      "cell_type": "code",
      "execution_count": 41,
      "metadata": {
        "id": "00uYpM6TSEJz"
      },
      "outputs": [],
      "source": [
        "AmazonSalesCleaned['Date1'] = AmazonSalesCleaned['Date'].astype('str')\n",
        "AmazonSalesCleaned['Date1'] = AmazonSalesCleaned['Date1'].str[:4]+AmazonSalesCleaned['Date1'].str[5:7]"
      ]
    },
    {
      "cell_type": "code",
      "execution_count": 42,
      "metadata": {
        "colab": {
          "base_uri": "https://localhost:8080/"
        },
        "id": "mYo9Rn23uiS6",
        "outputId": "91f27d50-3fb2-4f93-b700-148809246e86"
      },
      "outputs": [
        {
          "data": {
            "text/plain": [
              "array(['202204', '202212', '202211', '202210', '202209', '202208',\n",
              "       '202207', '202206', '202205', '202203', '202202', '202201'],\n",
              "      dtype=object)"
            ]
          },
          "execution_count": 42,
          "metadata": {},
          "output_type": "execute_result"
        }
      ],
      "source": [
        "AmazonSalesCleaned['Date1'].unique()"
      ]
    },
    {
      "cell_type": "code",
      "execution_count": 43,
      "metadata": {
        "colab": {
          "base_uri": "https://localhost:8080/",
          "height": 534
        },
        "id": "g--9VGOoSF9g",
        "outputId": "8b7f8280-0f52-44d4-960e-061884dc37d9"
      },
      "outputs": [
        {
          "data": {
            "image/png": "[encoded data removed]",
            "text/plain": [
              "<Figure size 1000x600 with 1 Axes>"
            ]
          },
          "metadata": {},
          "output_type": "display_data"
        }
      ],
      "source": [
        "# Data Visualization\n",
        "import matplotlib.pyplot as plt\n",
        "import seaborn as sns\n",
        "\n",
        "plt.figure(figsize=(10, 6))\n",
        "sns.lineplot(x='Date', y='Amount', data=AmazonSalesCleaned)\n",
        "plt.title('Daily Sales')\n",
        "plt.xlabel('Date')\n",
        "plt.ylabel('Amount')\n",
        "plt.show()"
      ]
    },
    {
      "cell_type": "code",
      "execution_count": 44,
      "metadata": {
        "id": "7jBn_Aq4ZB2N"
      },
      "outputs": [
        {
          "data": {
            "image/png": "[encoded data removed]",
            "text/plain": [
              "<Figure size 640x480 with 1 Axes>"
            ]
          },
          "metadata": {},
          "output_type": "display_data"
        }
      ],
      "source": [
        "# Explore fulfillment methods\n",
        "fulfillment_counts = AmazonSalesCleaned['Fulfilment'].value_counts()\n",
        "fulfillment_counts.plot(kind='bar', rot=0)\n",
        "plt.xlabel('Fulfillment Method')\n",
        "plt.ylabel('Number of Orders')\n",
        "plt.title('Order Fulfillment Distribution')\n",
        "plt.show()"
      ]
    }
  ],
  "metadata": {
    "colab": {
      "provenance": []
    },
    "kernelspec": {
      "display_name": "Python 3",
      "language": "python",
      "name": "python3"
    },
    "language_info": {
      "codemirror_mode": {
        "name": "ipython",
        "version": 3
      },
      "file_extension": ".py",
      "mimetype": "text/x-python",
      "name": "python",
      "nbconvert_exporter": "python",
      "pygments_lexer": "ipython3",
      "version": "3.11.0"
    },
    "orig_nbformat": 4
  },
  "nbformat": 4,
  "nbformat_minor": 0
}
